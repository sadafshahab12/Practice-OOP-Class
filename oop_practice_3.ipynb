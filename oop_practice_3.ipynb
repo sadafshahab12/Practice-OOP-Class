{
  "nbformat": 4,
  "nbformat_minor": 0,
  "metadata": {
    "colab": {
      "provenance": [],
      "authorship_tag": "ABX9TyNhfazagJzbUKP+YSWp348d",
      "include_colab_link": true
    },
    "kernelspec": {
      "name": "python3",
      "display_name": "Python 3"
    },
    "language_info": {
      "name": "python"
    }
  },
  "cells": [
    {
      "cell_type": "markdown",
      "metadata": {
        "id": "view-in-github",
        "colab_type": "text"
      },
      "source": [
        "<a href=\"https://colab.research.google.com/github/sadafshahab12/Practice-OOP-Class/blob/main/oop_practice_3.ipynb\" target=\"_parent\"><img src=\"https://colab.research.google.com/assets/colab-badge.svg\" alt=\"Open In Colab\"/></a>"
      ]
    },
    {
      "cell_type": "code",
      "execution_count": null,
      "metadata": {
        "colab": {
          "base_uri": "https://localhost:8080/"
        },
        "id": "VTL_Hq1rZ6VZ",
        "outputId": "b3e94ac1-bf46-4b26-e854-bc2258b30fe0"
      },
      "outputs": [
        {
          "output_type": "stream",
          "name": "stdout",
          "text": [
            "Buddy says woof\n",
            "Bunny says meow\n",
            "Tweety says tweet\n",
            "Can't instantiate abstract class Animal with abstract method make_sound\n"
          ]
        }
      ],
      "source": [
        "from abc import ABC, abstractmethod\n",
        "\n",
        "#abstract base class\n",
        "class Animal(ABC):\n",
        "  def __init__(self, name):\n",
        "    self.name = name\n",
        "\n",
        "  @abstractmethod\n",
        "  def make_sound(self):\n",
        "    pass\n",
        "\n",
        "class Dog(Animal):\n",
        "  def make_sound(self):\n",
        "    return  self.name + \" says woof\"\n",
        "\n",
        "class Cat(Animal):\n",
        "  def make_sound(self):\n",
        "    return  self.name + \" says meow\"\n",
        "\n",
        "class Birds(Animal):\n",
        "  def make_sound(self):\n",
        "    return  self.name + \" says tweet\"\n",
        "\n",
        "def main():\n",
        "  animals = [Dog(\"Buddy\") , Cat(\"Bunny\") , Birds(\"Tweety\")]\n",
        "\n",
        "  for animal in animals:\n",
        "    print(animal.make_sound())\n",
        "\n",
        "  try:\n",
        "    animal = Animal(\"Kitty\")\n",
        "  except TypeError as e:\n",
        "    print(e)\n",
        "\n",
        "\n",
        "if __name__ == \"__main__\":\n",
        "  main()"
      ]
    },
    {
      "cell_type": "code",
      "source": [
        "class Vehicle:\n",
        "  def __init__(self, brand, rental_price):\n",
        "    self.brand = brand\n",
        "    self.rental_price = rental_price\n",
        "    self.is_rented = False\n",
        "\n",
        "  def rent_vehicle(self):\n",
        "    if not self.is_rented:\n",
        "      self.is_rented = True\n",
        "      return f\"{self.brand} has been rented for ${self.rental_price}\"\n",
        "\n",
        "    else:\n",
        "      return f\"{self.brand} is already rented.\"\n",
        "\n",
        "  def return_vehicle(self):\n",
        "    if (self.is_rented):\n",
        "      self.is_rented = False\n",
        "      return f\"{self.brand} has been returned\"\n",
        "\n",
        "    else:\n",
        "      return f\"{self.brand} is not rented\"\n",
        "\n",
        "  def display_info(self):\n",
        "    return f\"Brand : {self.brand} , Rental Price: {self.rental_price}/day , Is Rented: {self.is_rented}\"\n",
        "\n",
        "class Car(Vehicle):\n",
        "  def __init__(self, brand, rental_price, seats):\n",
        "    super().__init__(brand, rental_price)\n",
        "    self.seats = seats\n",
        "\n",
        "  def display_info(self):\n",
        "    return f\"Car : {self.brand} , Rental Price: {self.rental_price}/day , Is Rented: {self.is_rented} , Seats : {self.seats}\"\n",
        "\n",
        "class  Bike(Vehicle):\n",
        "  def __init__(self, brand, rental_price, has_basket):\n",
        "    super().__init__(brand, rental_price)\n",
        "    self.has_basket = has_basket\n",
        "\n",
        "  def display_info(self):\n",
        "    basket_status = \"Yes\" if self.has_basket else \"No\"\n",
        "    return f\"Bike: {self.brand} , Rental Price: {self.rental_price}/day , Is Rented: {self.is_rented} , basket : {basket_status} \"\n",
        "\n",
        "\n",
        "class Truck (Vehicle):\n",
        "  def __init__(self , brand, rental_price , cargo_capacity):\n",
        "    super().__init__(brand, rental_price)\n",
        "    self.cargo_capacity = cargo_capacity\n",
        "\n",
        "  def display_info(self):\n",
        "    return f\"Trucks: {self.brand}, Rental Price: {self.rental_price}/day , Is Rented: {self.is_rented} , Cargo Capacity : {self.cargo_capacity} tons \"\n",
        "\n",
        "\n",
        "def main():\n",
        "  car = Car(\"Toyota\" ,  50 , 5)\n",
        "  bike = Bike(\"Honda\" , 20, True)\n",
        "  truck = Truck(\"Volvo\" , 100 , 5)\n",
        "\n",
        "  # initial info\n",
        "  print(\"Initial Info:\")\n",
        "  print(car.display_info())\n",
        "  print(bike.display_info())\n",
        "  print(truck.display_info())\n",
        "\n",
        "  print(\"\\nRenting Vehicles:\")\n",
        "  print(car.rent_vehicle())\n",
        "  print(bike.rent_vehicle())\n",
        "  print(truck.rent_vehicle())\n",
        "  print(car.rent_vehicle())\n",
        "\n",
        "  print(\"Initial Info:\")\n",
        "  print(car.display_info())\n",
        "  print(bike.display_info())\n",
        "  print(truck.display_info())\n",
        "\n",
        "  print(\"\\nReturning Vehicles:\")\n",
        "  print(car.return_vehicle())\n",
        "  print(bike.return_vehicle())\n",
        "  print(truck.return_vehicle())\n",
        "  print(car.return_vehicle())\n",
        "\n",
        "  print(car.display_info())\n",
        "  print(bike.display_info())\n",
        "  print(truck.display_info())\n",
        "\n",
        "\n",
        "if __name__ == \"__main__\":\n",
        "  main()\n"
      ],
      "metadata": {
        "colab": {
          "base_uri": "https://localhost:8080/"
        },
        "id": "1TGMY3z4MGZ5",
        "outputId": "b726fbca-0087-4b90-b2a7-64f74f5c56c7"
      },
      "execution_count": null,
      "outputs": [
        {
          "output_type": "stream",
          "name": "stdout",
          "text": [
            "Initial Info:\n",
            "Car : Toyota , Rental Price: 50/day , Is Rented: False , Seats : 5\n",
            "Bike: Honda , Rental Price: 20/day , Is Rented: False , basket : Yes \n",
            "Trucks: Volvo, Rental Price: 100/day , Is Rented: False , Cargo Capacity : 5 tons \n",
            "\n",
            "Renting Vehicles:\n",
            "Toyota has been rented for $50\n",
            "Honda has been rented for $20\n",
            "Volvo has been rented for $100\n",
            "Toyota is already rented.\n",
            "Initial Info:\n",
            "Car : Toyota , Rental Price: 50/day , Is Rented: True , Seats : 5\n",
            "Bike: Honda , Rental Price: 20/day , Is Rented: True , basket : Yes \n",
            "Trucks: Volvo, Rental Price: 100/day , Is Rented: True , Cargo Capacity : 5 tons \n",
            "\n",
            "Returning Vehicles:\n",
            "Toyota has been returned\n",
            "Honda has been returned\n",
            "Volvo has been returned\n",
            "Toyota is not rented\n",
            "Car : Toyota , Rental Price: 50/day , Is Rented: False , Seats : 5\n",
            "Bike: Honda , Rental Price: 20/day , Is Rented: False , basket : Yes \n",
            "Trucks: Volvo, Rental Price: 100/day , Is Rented: False , Cargo Capacity : 5 tons \n"
          ]
        }
      ]
    },
    {
      "cell_type": "markdown",
      "source": [
        "In Python, polymorphism is often achieved through method overriding, where child classes provide their own version of a method defined in a parent class"
      ],
      "metadata": {
        "id": "xGHSMK0x93gz"
      }
    },
    {
      "cell_type": "code",
      "source": [
        "import math\n",
        "\n",
        "class Shape():\n",
        "  def calculate_area(self):\n",
        "    return 0.0\n",
        "\n",
        "  def describe(self):\n",
        "    return \"this is generic shape\"\n",
        "\n",
        "\n",
        "class Circle(Shape):\n",
        "  def __init__(self, radius):\n",
        "    self.radius = radius\n",
        "\n",
        "  def calculate_area(self):\n",
        "    return math.pi * self.radius ** 2\n",
        "\n",
        "  def describe(self):\n",
        "    return f\"This is a circle with radius {self.radius}\"\n",
        "\n",
        "class Rectangle(Shape):\n",
        "  def __init__(self, width, length):\n",
        "    self.width = width\n",
        "    self.length = length\n",
        "\n",
        "  def calculate_area(self):\n",
        "    return self.length * self.width\n",
        "\n",
        "  def describe(self):\n",
        "    return f\"This is a Rectangle with width {self.width} and length {self.length}\"\n",
        "\n",
        "class Triangle(Shape):\n",
        "  def __init__(self, base, height):\n",
        "    self.base = base\n",
        "    self.height = height\n",
        "\n",
        "  def calculate_area(self):\n",
        "    return  0.5 * self.base * self.height\n",
        "  def describe(self):\n",
        "    return f\"This is a Triangle with base {self.base} and height {self.height}\"\n",
        "\n",
        "\n",
        "def main():\n",
        "  shapes = [Circle(3) , Rectangle(3,4) , Triangle(5, 3)]\n",
        "\n",
        "  for shape in shapes:\n",
        "    print(shape.describe())\n",
        "    print(shape.calculate_area())\n",
        "    print()\n",
        "\n",
        "if __name__ == \"__main__\":\n",
        "  main()"
      ],
      "metadata": {
        "colab": {
          "base_uri": "https://localhost:8080/"
        },
        "id": "6Bvsj7__94K5",
        "outputId": "97e116e6-93a6-4295-8ad2-f1aa20e00d0d"
      },
      "execution_count": null,
      "outputs": [
        {
          "output_type": "stream",
          "name": "stdout",
          "text": [
            "This is a circle with radius 3\n",
            "28.274333882308138\n",
            "\n",
            "This is a Rectangle with width 3 and length 4\n",
            "12\n",
            "\n",
            "This is a Triangle with base 5 and height 3\n",
            "7.5\n",
            "\n"
          ]
        }
      ]
    },
    {
      "cell_type": "code",
      "source": [
        "class Book():\n",
        "  library_name = \"City Library\"\n",
        "  total_book = 0\n",
        "  def __init__(self, title, author):\n",
        "    self.title = title\n",
        "    self.author = author\n",
        "    Book.total_book += 1\n",
        "\n",
        "  def update_author(self, new_author):\n",
        "    self.author = new_author\n",
        "    return f\"Author updated to {self.author} of {self.title}\"\n",
        "\n",
        "  @classmethod\n",
        "  def get_total_book(cls):\n",
        "    return f\"Total Books: {cls.total_book}\"\n",
        "  def display_info(self):\n",
        "    print(f\"title: {self.title} , Author: {self.author} , Library: {self.library_name}\")\n",
        "\n",
        "\n",
        "book1 = Book(\"The Great Gatsby\" , \"F. Scott Fitzgerald\")\n",
        "book2 = Book(\"To Kill a Mockingbird\" , \"Harper Lee\")\n",
        "book1.display_info()\n",
        "book2.display_info()\n",
        "\n",
        "print(Book.get_total_book())\n",
        "Book.library_name = \"Central Library\"\n",
        "\n",
        "book1.display_info()\n",
        "book2.display_info()\n",
        "\n",
        "book1.library_name = \"City Library\"\n",
        "book1.update_author(\"Jane Austin\")\n",
        "\n",
        "book1.display_info()\n",
        "book2.display_info()\n",
        "\n",
        "\n"
      ],
      "metadata": {
        "colab": {
          "base_uri": "https://localhost:8080/"
        },
        "id": "wFAd19tlOpIW",
        "outputId": "9b051699-896a-4093-c685-76363f1ed31c"
      },
      "execution_count": null,
      "outputs": [
        {
          "output_type": "stream",
          "name": "stdout",
          "text": [
            "title: The Great Gatsby , Author: F. Scott Fitzgerald , Library: City Library\n",
            "title: To Kill a Mockingbird , Author: Harper Lee , Library: City Library\n",
            "Total Books: 2\n",
            "title: The Great Gatsby , Author: F. Scott Fitzgerald , Library: Central Library\n",
            "title: To Kill a Mockingbird , Author: Harper Lee , Library: Central Library\n",
            "title: The Great Gatsby , Author: Jane Austin , Library: City Library\n",
            "title: To Kill a Mockingbird , Author: Harper Lee , Library: Central Library\n"
          ]
        }
      ]
    },
    {
      "cell_type": "code",
      "source": [
        "class Book:\n",
        "    total_books = 0\n",
        "    library_name = \"City Library\"\n",
        "\n",
        "    def __init__(self, title, author):\n",
        "        self.title = title\n",
        "        self.author = author\n",
        "        Book.total_books += 1\n",
        "    @classmethod\n",
        "    def get_total_books(cls):\n",
        "      return f\"Total Books: {cls.total_books}\"\n",
        "    @classmethod\n",
        "    def reset_total_books(cls):\n",
        "        cls.total_books = 0\n",
        "        return \"Total books reset to 0\"\n",
        "\n",
        "# Test it\n",
        "book1 = Book(\"1984\", \"George Orwell\")\n",
        "print(Book.get_total_books())\n",
        "print(Book.reset_total_books())\n",
        "book2 = Book(\"1984\", \"George Orwell\")\n",
        "print(Book.get_total_books())\n",
        "print(Book.reset_total_books())"
      ],
      "metadata": {
        "colab": {
          "base_uri": "https://localhost:8080/"
        },
        "id": "w4-wTGawPfyU",
        "outputId": "ad3562b2-6d75-452f-be3d-2674e0efb590"
      },
      "execution_count": null,
      "outputs": [
        {
          "output_type": "stream",
          "name": "stdout",
          "text": [
            "Total Books: 1\n",
            "Total books reset to 0\n",
            "Total Books: 1\n",
            "Total books reset to 0\n"
          ]
        }
      ]
    },
    {
      "cell_type": "code",
      "source": [
        "class Book():\n",
        "  def __init__(self, title):\n",
        "    self.title = title\n",
        "\n",
        "\n",
        "class Magazine(Book):\n",
        "  def __init__(self, title, issue_number):\n",
        "    super().__init__(title)\n",
        "    self.issue_number = issue_number\n",
        "\n",
        "  def display_info(self):\n",
        "    print(f\"Title: {self.title} , Issue Number: {self.issue_number}\")\n",
        "\n",
        "magazine1 = Magazine(\"National Geographic\" , 1)\n",
        "magazine1.display_info()\n"
      ],
      "metadata": {
        "colab": {
          "base_uri": "https://localhost:8080/"
        },
        "id": "FRLyl6cByygf",
        "outputId": "1fcfbbac-ce58-4923-ac53-cf879caa56f8"
      },
      "execution_count": null,
      "outputs": [
        {
          "output_type": "stream",
          "name": "stdout",
          "text": [
            "Title: National Geographic , Issue Number: 1\n"
          ]
        }
      ]
    },
    {
      "cell_type": "code",
      "source": [
        "class Book():\n",
        "  def __init__(self, title):\n",
        "    self.title = title\n",
        "\n",
        "class Educational():\n",
        "  def __init__(self, subject):\n",
        "    self.subject = subject\n",
        "class TextBook(Book , Educational):\n",
        "  def __init__(self, title, subject):\n",
        "    Book.__init__(self, title)\n",
        "    Educational.__init__(self, subject)\n",
        "\n",
        "  def display_info(self):\n",
        "    print(f\"Title: {self.title} , Subject: {self.subject}\")\n",
        "\n",
        "textB1 = TextBook(\"Design in Haejung\" ,  \"Design\")\n",
        "textB1.display_info()\n",
        "\n"
      ],
      "metadata": {
        "colab": {
          "base_uri": "https://localhost:8080/"
        },
        "id": "AXWbUqek0Yp3",
        "outputId": "b9a711cc-2b72-49b3-e3c7-e7db686322a2"
      },
      "execution_count": null,
      "outputs": [
        {
          "output_type": "stream",
          "name": "stdout",
          "text": [
            "Title: Design in Haejung , Subject: Design\n"
          ]
        }
      ]
    },
    {
      "cell_type": "code",
      "source": [
        "class Book:\n",
        "    def __init__(self, title, pages):\n",
        "        self.title = title\n",
        "        self.pages = pages\n",
        "\n",
        "    def __add__(self, other):\n",
        "      total_pages = self.pages + other.pages\n",
        "      print(f\"Combined pages of {self.title} and {other.title} : {total_pages}\")\n",
        "\n",
        "book3 = Book(\"The Great Gatsby\", 180)\n",
        "book4 = Book(\"To Kill a Mockingbird\", 281)\n",
        "\n",
        "book3 + book4\n",
        "\n"
      ],
      "metadata": {
        "colab": {
          "base_uri": "https://localhost:8080/"
        },
        "id": "BZdw_d8O-Hli",
        "outputId": "43f79c3a-a42d-4f3d-f087-67548283a1a6"
      },
      "execution_count": null,
      "outputs": [
        {
          "output_type": "stream",
          "name": "stdout",
          "text": [
            "Combined pages of The Great Gatsby and To Kill a Mockingbird : 461\n"
          ]
        }
      ]
    },
    {
      "cell_type": "code",
      "source": [
        "class Book:\n",
        "    def __init__(self, title):\n",
        "        self.title = title\n",
        "\n",
        "    def display_info(self):\n",
        "        return f\"Book: {self.title}\"\n",
        "\n",
        "class EBook:\n",
        "    def __init__(self, title):\n",
        "        self.title = title\n",
        "\n",
        "    def display_info(self):\n",
        "        return f\"EBook: {self.title}\"\n",
        "\n",
        "def print_like_duck(item):\n",
        "  print(item.display_info())\n",
        "\n",
        "\n",
        "b1 = Book(\"The Great Gatsby\")\n",
        "e1 = EBook(\"The Great Gatsby\")\n",
        "\n",
        "print_like_duck(b1)\n",
        "print_like_duck(e1)"
      ],
      "metadata": {
        "colab": {
          "base_uri": "https://localhost:8080/"
        },
        "id": "8A2UC-bzA4gx",
        "outputId": "2fea7a6e-3237-4cd0-a0cf-6217f1b63452"
      },
      "execution_count": null,
      "outputs": [
        {
          "output_type": "stream",
          "name": "stdout",
          "text": [
            "Book: The Great Gatsby\n",
            "EBook: The Great Gatsby\n"
          ]
        }
      ]
    },
    {
      "cell_type": "code",
      "source": [
        "class Dog():\n",
        "  def __new__(cls, name, color):\n",
        "    print (\"Making a new dog!\")\n",
        "    return super().__new__(cls)\n",
        "\n",
        "  def __init__(self, name, color):\n",
        "    print(\"Setting up the dog!\")\n",
        "    self.name = name\n",
        "    self.color = color\n",
        "\n",
        "  def __repr__(self) -> str:\n",
        "    return f\"Dog name {self.name} , Color: {self.color}\"\n",
        "\n",
        "  def __str__(self) -> str:\n",
        "    return f\"A cute {self.color} dog named {self.name}\"\n",
        "\n",
        "my_dog = Dog(\"Buddy\" , \"Brown\")\n",
        "print(repr(my_dog))\n",
        "print(my_dog)\n"
      ],
      "metadata": {
        "colab": {
          "base_uri": "https://localhost:8080/"
        },
        "id": "xqPegTAzhJKt",
        "outputId": "b077d112-5eea-4c76-d754-e5d6cf1ea202"
      },
      "execution_count": 4,
      "outputs": [
        {
          "output_type": "stream",
          "name": "stdout",
          "text": [
            "Making a new dog!\n",
            "Setting up the dog!\n",
            "Dog name Buddy , Color: Brown\n",
            "A cute Brown dog named Buddy\n"
          ]
        }
      ]
    },
    {
      "cell_type": "code",
      "source": [
        "class Cat():\n",
        "  def __init__(self, name, color):\n",
        "    self.name = name\n",
        "    self.color = color\n",
        "\n",
        "  def __eq__(self, other):\n",
        "    if isinstance(other, Cat):\n",
        "      return self.name == other.name and self.color\n",
        "    else:\n",
        "      return False\n",
        "\n",
        "  def __hash__(self):\n",
        "    return hash((self.name , self.color))\n",
        "\n",
        "  def __ne__(self, other):\n",
        "    return not self.__eq__(other)\n",
        "\n",
        "  def __str__(self) -> str:\n",
        "    return f\"{self.color} cat named {self.name}\"\n",
        "\n",
        "cat1 = Cat(\"Fluffy\" , \"White\")\n",
        "cat2 = Cat(\"Fluffy\" , \"White\")\n",
        "cat3 = Cat(\"Fluffy\" , \"Black\")\n",
        "print(hash(cat1))\n",
        "print(hash(cat2))\n",
        "print(hash(cat3))\n",
        "print(cat1 == cat2)\n",
        "print(cat1 != cat2)\n",
        "\n",
        "cat_set = {cat1, cat2, cat3}\n",
        "print(len(cat_set))\n",
        "\n",
        "\n"
      ],
      "metadata": {
        "colab": {
          "base_uri": "https://localhost:8080/"
        },
        "id": "DSn_f2SE2Tso",
        "outputId": "03ba7fc1-8889-48d0-8c26-ed4b2113ca32"
      },
      "execution_count": 13,
      "outputs": [
        {
          "output_type": "stream",
          "name": "stdout",
          "text": [
            "-7498030689428880737\n",
            "-7498030689428880737\n",
            "-7175221696055249628\n",
            "White\n",
            "False\n",
            "2\n"
          ]
        }
      ]
    }
  ]
}