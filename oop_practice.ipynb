{
  "nbformat": 4,
  "nbformat_minor": 0,
  "metadata": {
    "colab": {
      "provenance": [],
      "authorship_tag": "ABX9TyOpledL+fuv1/Qdpojudal3",
      "include_colab_link": true
    },
    "kernelspec": {
      "name": "python3",
      "display_name": "Python 3"
    },
    "language_info": {
      "name": "python"
    }
  },
  "cells": [
    {
      "cell_type": "markdown",
      "metadata": {
        "id": "view-in-github",
        "colab_type": "text"
      },
      "source": [
        "<a href=\"https://colab.research.google.com/github/sadafshahab12/Practice-OOP-Class/blob/main/oop_practice.ipynb\" target=\"_parent\"><img src=\"https://colab.research.google.com/assets/colab-badge.svg\" alt=\"Open In Colab\"/></a>"
      ]
    },
    {
      "cell_type": "markdown",
      "source": [
        "Student Record"
      ],
      "metadata": {
        "id": "6ET4KCM3bX3_"
      }
    },
    {
      "cell_type": "code",
      "execution_count": 1,
      "metadata": {
        "colab": {
          "base_uri": "https://localhost:8080/"
        },
        "id": "8yy9Ee7SbIg6",
        "outputId": "ba5012c5-7ee6-4d6b-a1e8-967d1792c5b7"
      },
      "outputs": [
        {
          "output_type": "stream",
          "name": "stdout",
          "text": [
            "Student Name: Sadaf, Roll Num: 20\n"
          ]
        }
      ],
      "source": [
        "class Student():\n",
        "  def __init__(self, name, roll_num):\n",
        "    self.name = name\n",
        "    self.roll_num = roll_num\n",
        "\n",
        "  def display_info(self):\n",
        "    print(f\"Student Name: {self.name}, Roll Num: {self.roll_num}\")\n",
        "\n",
        "s1 = Student(\"Sadaf\" , \"20\")\n",
        "s1.display_info()"
      ]
    },
    {
      "cell_type": "markdown",
      "source": [
        "Object Counter"
      ],
      "metadata": {
        "id": "mkQaJmuZb8Dn"
      }
    },
    {
      "cell_type": "code",
      "source": [
        "class User():\n",
        "  user_count = 0\n",
        "\n",
        "  def __init__(self):\n",
        "    User.user_count +=1\n",
        "  @classmethod\n",
        "  def get_count(cls):\n",
        "    print(f\"Total User: {cls.user_count}\")\n",
        "\n",
        "u1 = User()\n",
        "u2 = User()\n",
        "u3 = User()\n",
        "User.get_count()\n"
      ],
      "metadata": {
        "colab": {
          "base_uri": "https://localhost:8080/"
        },
        "id": "4swF7uuUb9zm",
        "outputId": "b90bf893-43d8-44d8-e326-824dc7cb1884"
      },
      "execution_count": 2,
      "outputs": [
        {
          "output_type": "stream",
          "name": "stdout",
          "text": [
            "Total User: 3\n"
          ]
        }
      ]
    },
    {
      "cell_type": "markdown",
      "source": [
        "Bank Account"
      ],
      "metadata": {
        "id": "Di0P9epic5qd"
      }
    },
    {
      "cell_type": "code",
      "source": [
        "class BankAccount():\n",
        "  def __init__(self, owner, balance, pin):\n",
        "    self.owner = owner\n",
        "    self._balance = balance\n",
        "    self.__pin = pin\n",
        "\n",
        "  def show_details(self):\n",
        "    print(f\"Owner: {self.owner} , Balance: {self._balance} , Pin: {self.__pin}\")\n",
        "\n",
        "b1 = BankAccount(\"Sadaf\", 5000, 123456)\n",
        "b1.show_details()\n"
      ],
      "metadata": {
        "colab": {
          "base_uri": "https://localhost:8080/",
          "height": 193
        },
        "id": "VrbcbZ7qc6Jl",
        "outputId": "c4c6edeb-609d-427e-fbc5-a6e2aab5cc3b"
      },
      "execution_count": 4,
      "outputs": [
        {
          "output_type": "stream",
          "name": "stdout",
          "text": [
            "Owner: Sadaf , Balance: 5000 , Pin: 123456\n"
          ]
        },
        {
          "output_type": "error",
          "ename": "AttributeError",
          "evalue": "'BankAccount' object has no attribute '__pin'",
          "traceback": [
            "\u001b[0;31m---------------------------------------------------------------------------\u001b[0m",
            "\u001b[0;31mAttributeError\u001b[0m                            Traceback (most recent call last)",
            "\u001b[0;32m<ipython-input-4-cacbb1bbbdec>\u001b[0m in \u001b[0;36m<cell line: 0>\u001b[0;34m()\u001b[0m\n\u001b[1;32m     10\u001b[0m \u001b[0mb1\u001b[0m \u001b[0;34m=\u001b[0m \u001b[0mBankAccount\u001b[0m\u001b[0;34m(\u001b[0m\u001b[0;34m\"Sadaf\"\u001b[0m\u001b[0;34m,\u001b[0m \u001b[0;36m5000\u001b[0m\u001b[0;34m,\u001b[0m \u001b[0;36m123456\u001b[0m\u001b[0;34m)\u001b[0m\u001b[0;34m\u001b[0m\u001b[0;34m\u001b[0m\u001b[0m\n\u001b[1;32m     11\u001b[0m \u001b[0mb1\u001b[0m\u001b[0;34m.\u001b[0m\u001b[0mshow_details\u001b[0m\u001b[0;34m(\u001b[0m\u001b[0;34m)\u001b[0m\u001b[0;34m\u001b[0m\u001b[0;34m\u001b[0m\u001b[0m\n\u001b[0;32m---> 12\u001b[0;31m \u001b[0mprint\u001b[0m\u001b[0;34m(\u001b[0m\u001b[0mb1\u001b[0m\u001b[0;34m.\u001b[0m\u001b[0m__pin\u001b[0m\u001b[0;34m)\u001b[0m\u001b[0;34m\u001b[0m\u001b[0;34m\u001b[0m\u001b[0m\n\u001b[0m",
            "\u001b[0;31mAttributeError\u001b[0m: 'BankAccount' object has no attribute '__pin'"
          ]
        }
      ]
    },
    {
      "cell_type": "markdown",
      "source": [
        " Shape → Rectangle"
      ],
      "metadata": {
        "id": "4Xb5yiLsev87"
      }
    },
    {
      "cell_type": "code",
      "source": [
        "from abc import ABC, abstractmethod\n",
        "class Shape(ABC):\n",
        "  @abstractmethod\n",
        "  def area():\n",
        "    pass\n",
        "\n",
        "class Rectangle(Shape):\n",
        "  def __init__(self, width, height):\n",
        "    self.width = width\n",
        "    self.height = height\n",
        "  def area(self):\n",
        "    return self.width * self.height\n",
        "\n",
        "r1 = Rectangle(10, 20)\n",
        "r1.area()\n"
      ],
      "metadata": {
        "colab": {
          "base_uri": "https://localhost:8080/"
        },
        "id": "VAI1kEFRevf0",
        "outputId": "90182b45-04f1-4de8-d107-fa72a73d680e"
      },
      "execution_count": 5,
      "outputs": [
        {
          "output_type": "execute_result",
          "data": {
            "text/plain": [
              "200"
            ]
          },
          "metadata": {},
          "execution_count": 5
        }
      ]
    },
    {
      "cell_type": "markdown",
      "source": [
        "Vehicle → Car"
      ],
      "metadata": {
        "id": "7QDqoGfhf6fT"
      }
    },
    {
      "cell_type": "code",
      "source": [
        "class Vehicle():\n",
        "  def __init__(self, brand):\n",
        "    self.brand = brand\n",
        "class Car(Vehicle):\n",
        "  def __init__(self, brand, model):\n",
        "    self.model = model\n",
        "    super().__init__(brand)\n",
        "  def show_detail(self):\n",
        "    print(f\"Brand: {self.brand} , Model: {self.model}\")\n",
        "\n",
        "c1 = Car(\"Toyota\" , \"Corolla\")\n",
        "c1.show_detail()\n"
      ],
      "metadata": {
        "colab": {
          "base_uri": "https://localhost:8080/"
        },
        "id": "1TpTaiKxf7ya",
        "outputId": "d8fe6ea4-b3e0-4470-83c4-7c37a08f8081"
      },
      "execution_count": 6,
      "outputs": [
        {
          "output_type": "stream",
          "name": "stdout",
          "text": [
            "Brand: Toyota , Model: Corolla\n"
          ]
        }
      ]
    },
    {
      "cell_type": "markdown",
      "source": [
        "Calculator"
      ],
      "metadata": {
        "id": "SwD_gRB7gkDC"
      }
    },
    {
      "cell_type": "code",
      "source": [
        "class MathUtils():\n",
        "  @staticmethod\n",
        "  def add(a,b):\n",
        "    return a + b\n",
        "  def subtract(a,b):\n",
        "    return a - b\n",
        "\n",
        "add1 = MathUtils.add(5,10)\n",
        "print(add1)\n",
        "sub1 = MathUtils.subtract(5,5)\n",
        "print(sub1)"
      ],
      "metadata": {
        "colab": {
          "base_uri": "https://localhost:8080/"
        },
        "id": "wfVeCk5RgkaK",
        "outputId": "3e25d73c-db17-4759-a83c-8a859c36253a"
      },
      "execution_count": 10,
      "outputs": [
        {
          "output_type": "stream",
          "name": "stdout",
          "text": [
            "15\n",
            "0\n"
          ]
        }
      ]
    },
    {
      "cell_type": "markdown",
      "source": [
        "Book Store"
      ],
      "metadata": {
        "id": "BAZI0YKUhLgS"
      }
    },
    {
      "cell_type": "code",
      "source": [
        "class Book():\n",
        "  total_books = 0\n",
        "  def __init__(self, title, author):\n",
        "    self.title = title\n",
        "    self.author = author\n",
        "    Book.total_books += 1\n",
        "  @classmethod\n",
        "  def show_count(cls):\n",
        "    print(f\"Total Books: {cls.total_books}\")\n",
        "\n",
        "b1 = Book(\"The Alchemist\" , \"Paulo Coelho\")\n",
        "b2 = Book(\"The Alchemist\" , \"Paulo Coelho\")\n",
        "b3 = Book(\"The Alchemist\" , \"Paulo Coelho\")\n",
        "b4 = Book(\"The Alchemist\" , \"Paulo Coelho\")\n",
        "Book.show_count()\n"
      ],
      "metadata": {
        "colab": {
          "base_uri": "https://localhost:8080/"
        },
        "id": "dWaCRCZpg-D5",
        "outputId": "d8806249-4daa-47f1-ca9f-30028490ae6c"
      },
      "execution_count": 16,
      "outputs": [
        {
          "output_type": "stream",
          "name": "stdout",
          "text": [
            "Total Books: 4\n"
          ]
        }
      ]
    },
    {
      "cell_type": "markdown",
      "source": [
        "Car–Engine Composition"
      ],
      "metadata": {
        "id": "_xLH7Tx5iTbx"
      }
    },
    {
      "cell_type": "code",
      "source": [
        "class Engine():\n",
        "  def start(self):\n",
        "    print(\"Engine is started\")\n",
        "class Car():\n",
        "  def __init__(self, engine):\n",
        "    self.engine = engine\n",
        "  def start_car(self):\n",
        "    self.engine.start()\n",
        "\n",
        "e1 = Engine()\n",
        "c1 = Car(e1)\n",
        "c1.start_car()\n",
        "\n",
        ""
      ],
      "metadata": {
        "colab": {
          "base_uri": "https://localhost:8080/"
        },
        "id": "mwpygsE2iUOR",
        "outputId": "cdbd1b9d-bc65-4c7b-c0f2-5708a8107de7"
      },
      "execution_count": 17,
      "outputs": [
        {
          "output_type": "stream",
          "name": "stdout",
          "text": [
            "Engine is started\n"
          ]
        }
      ]
    },
    {
      "cell_type": "markdown",
      "source": [
        "Department–Employee Aggregation"
      ],
      "metadata": {
        "id": "qG91Ws2Alhaf"
      }
    },
    {
      "cell_type": "code",
      "source": [
        "class Employee():\n",
        "  def __init__(self, name):\n",
        "    self.name = name\n",
        "\n",
        "class Department():\n",
        "  def __init__(self,dept_name, employee):\n",
        "    self.dept_name = dept_name\n",
        "    self.employee = employee\n",
        "  def show(self):\n",
        "    print(f\"Department Name: {self.dept_name}\")\n",
        "    print(f\"Employee Name: {self.employee.name}\")\n",
        "\n",
        "emp1 = Employee(\"Sadaf\")\n",
        "d1 = Department(\"IT\", emp1)\n",
        "d1.show()"
      ],
      "metadata": {
        "colab": {
          "base_uri": "https://localhost:8080/"
        },
        "id": "IU0SvSMYlhsX",
        "outputId": "100a4066-a52f-45fc-94a3-765094127217"
      },
      "execution_count": 18,
      "outputs": [
        {
          "output_type": "stream",
          "name": "stdout",
          "text": [
            "Department Name: IT\n",
            "Employee Name: Sadaf\n"
          ]
        }
      ]
    },
    {
      "cell_type": "markdown",
      "source": [
        "Logger Class"
      ],
      "metadata": {
        "id": "qWB7vq7cmV6u"
      }
    },
    {
      "cell_type": "code",
      "source": [
        "class Logger():\n",
        "  def __init__(self):\n",
        "    print(\"A constructor is created\")\n",
        "  def __del__(self):\n",
        "    print(\"A destructor is created\")\n",
        "\n",
        "l1 = Logger()\n",
        "del l1"
      ],
      "metadata": {
        "colab": {
          "base_uri": "https://localhost:8080/"
        },
        "id": "DuOliYfpmUrG",
        "outputId": "6b000752-2413-4aee-ed31-c8f816fc59f5"
      },
      "execution_count": 19,
      "outputs": [
        {
          "output_type": "stream",
          "name": "stdout",
          "text": [
            "A constructor is created\n",
            "A destructor is created\n"
          ]
        }
      ]
    }
  ]
}